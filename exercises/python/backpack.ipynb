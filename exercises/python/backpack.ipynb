{
 "cells": [
  {
   "cell_type": "code",
   "execution_count": 7,
   "metadata": {},
   "outputs": [],
   "source": [
    "import numpy as np\n",
    "import matplotlib.pyplot as plt"
   ]
  },
  {
   "cell_type": "code",
   "execution_count": 5,
   "metadata": {},
   "outputs": [],
   "source": [
    "camera = {\n",
    "    \"name\": \"camera\",\n",
    "    \"weight\": 750,\n",
    "    \"profit\": 5\n",
    "}\n",
    "stanley = {\n",
    "    \"name\": \"stanley\",\n",
    "    \"weight\": 1500,\n",
    "    \"profit\": 8\n",
    "}\n",
    "swiss = {\n",
    "    \"name\": \"swiss\",\n",
    "    \"weight\": 300,\n",
    "    \"profit\": 7\n",
    "}\n",
    "book = {\n",
    "    \"name\": \"book\",\n",
    "    \"weight\": 1000,\n",
    "    \"profit\": 3\n",
    "}\n",
    "things = [camera, stanley, swiss, book]"
   ]
  },
  {
   "cell_type": "code",
   "execution_count": null,
   "metadata": {},
   "outputs": [],
   "source": [
    "profit = []\n",
    "weight = []\n",
    "items = []\n",
    "for thing_1 in things:\n",
    "    for thing_2 in things:\n",
    "        if thing_1 == thing_2:\n",
    "            break\n",
    "        for thing_3 in things:\n",
    "            if thing_1 == thing_3 or thing_2 == thing_3:\n",
    "                break\n",
    "            profit.append(thing_1[\"profit\"] + thing_2[\"profit\"] + thing_3[\"profit\"])\n",
    "            weight.append(thing_1[\"weight\"] + thing_2[\"weight\"] + thing_3[\"weight\"])\n",
    "            items.append(thing_1[\"name\"] + thing_2[\"name\"] + thing_3[\"name\"])\n",
    "\n",
    "fig, ax = plt.subplots()\n",
    "plt.plot(weight, profit, 'o')\n",
    "n = np.linspace(0, len(items)-1, len(items))\n",
    "\n",
    "for i, txt in enumerate(n):\n",
    "    ax.annotate(txt, (weight[i], profit[i]))"
   ]
  },
  {
   "cell_type": "code",
   "execution_count": null,
   "metadata": {},
   "outputs": [],
   "source": [
    "items[2]"
   ]
  }
 ],
 "metadata": {
  "kernelspec": {
   "display_name": "Python 3",
   "language": "python",
   "name": "python3"
  },
  "language_info": {
   "codemirror_mode": {
    "name": "ipython",
    "version": 3
   },
   "file_extension": ".py",
   "mimetype": "text/x-python",
   "name": "python",
   "nbconvert_exporter": "python",
   "pygments_lexer": "ipython3",
   "version": "3.12.5"
  }
 },
 "nbformat": 4,
 "nbformat_minor": 2
}
