{
 "cells": [
  {
   "cell_type": "markdown",
   "metadata": {
    "vscode": {
     "languageId": "plaintext"
    }
   },
   "source": [
    "# Frame Buffer Dump\n",
    "\n",
    "1. `Xilinx Tools` -> `Dump/Restore Data File`\n",
    "2. Processor: APU -> Arm Cortex Core #0\n",
    "3. Start Address: 0x01000000\n",
    "4. Size: 8294400"
   ]
  },
  {
   "cell_type": "code",
   "execution_count": null,
   "metadata": {},
   "outputs": [],
   "source": [
    "import numpy as np\n",
    "import matplotlib.pyplot as plt\n",
    "import sys\n",
    "import os\n",
    "\n",
    "def read_rgba8888_bin(filename, width=1920, height=1080):\n",
    "    \"\"\"\n",
    "    Reads a binary file containing RGBA8888 data and returns a numpy array.\n",
    "\n",
    "    Parameters:\n",
    "        filename (str): Path to the binary file.\n",
    "        width (int): Image width in pixels.\n",
    "        height (int): Image height in pixels.\n",
    "\n",
    "    Returns:\n",
    "        numpy.ndarray: Image array of shape (height, width, 4).\n",
    "    \"\"\"\n",
    "    expected_size = width * height * 4  # 4 bytes per pixel (RGBA)\n",
    "\n",
    "    try:\n",
    "        with open(filename, 'rb') as f:\n",
    "            data = f.read()\n",
    "    except IOError as e:\n",
    "        print(f\"Error reading file {filename}: {e}\")\n",
    "        sys.exit(1)\n",
    "\n",
    "    if len(data) != expected_size:\n",
    "        print(f\"Unexpected file size: expected {expected_size} bytes, got {len(data)} bytes.\")\n",
    "        sys.exit(1)\n",
    "\n",
    "    # Convert the binary data to a NumPy array\n",
    "    image = np.frombuffer(data, dtype=np.uint8)\n",
    "    print(image.shape)\n",
    "\n",
    "    # Reshape to (height, width, 4)\n",
    "    image = image.reshape((height, width, 4))\n",
    "    image = image[:, :, [1, 2, 3, 0]]\n",
    "\n",
    "    pixel = image[0, 0, :]\n",
    "    print(pixel)\n",
    "    r, g, b, a = pixel\n",
    "    hex_value = f'#{r:02X}{g:02X}{b:02X}{a:02X}'\n",
    "    print(f\"Pixel: R={r}, G={g}, B={b}, A={a} -> Hex: {hex_value}\")\n",
    "\n",
    "    return image\n",
    "\n",
    "def display_image(image, show_alpha=False):\n",
    "    \"\"\"\n",
    "    Displays an image using matplotlib.\n",
    "\n",
    "    Parameters:\n",
    "        image (numpy.ndarray): Image array of shape (height, width, channels).\n",
    "        show_alpha (bool): Whether to include the alpha channel.\n",
    "    \"\"\"\n",
    "    if image.shape[2] == 4 and not show_alpha:\n",
    "        # Discard the alpha channel\n",
    "        rgb_image = image[:, :, :3]\n",
    "    else:\n",
    "        rgb_image = image\n",
    "\n",
    "    # Display the image\n",
    "    plt.figure(figsize=(12, 7))\n",
    "    plt.imshow(rgb_image)\n",
    "    plt.axis('off')  # Hide axis\n",
    "    plt.show()\n",
    "\n",
    "filename = 'fb_dump.bin'\n",
    "width = 1920\n",
    "height = 1080\n",
    "\n",
    "# Check if file exists\n",
    "if not os.path.isfile(filename):\n",
    "    print(f\"File not found: {filename}\")\n",
    "    sys.exit(1)\n",
    "\n",
    "# Read the image data\n",
    "image = read_rgba8888_bin(filename, width, height)\n",
    "\n",
    "# Display the image\n",
    "display_image(image, show_alpha=False)"
   ]
  }
 ],
 "metadata": {
  "kernelspec": {
   "display_name": ".venv",
   "language": "python",
   "name": "python3"
  },
  "language_info": {
   "codemirror_mode": {
    "name": "ipython",
    "version": 3
   },
   "file_extension": ".py",
   "mimetype": "text/x-python",
   "name": "python",
   "nbconvert_exporter": "python",
   "pygments_lexer": "ipython3",
   "version": "3.12.5"
  }
 },
 "nbformat": 4,
 "nbformat_minor": 2
}
